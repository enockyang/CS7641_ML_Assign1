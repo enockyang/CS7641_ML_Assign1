{
 "cells": [
  {
   "cell_type": "code",
   "execution_count": 1,
   "metadata": {},
   "outputs": [],
   "source": [
    "from sklearn.datasets import load_iris\n",
    "from sklearn.model_selection import train_test_split"
   ]
  },
  {
   "cell_type": "code",
   "execution_count": 2,
   "metadata": {},
   "outputs": [],
   "source": [
    "iris_dataset = load_iris()"
   ]
  },
  {
   "cell_type": "code",
   "execution_count": 3,
   "metadata": {},
   "outputs": [
    {
     "data": {
      "text/plain": [
       "array([[5.1, 3.5, 1.4, 0.2],\n",
       "       [4.9, 3. , 1.4, 0.2],\n",
       "       [4.7, 3.2, 1.3, 0.2],\n",
       "       [4.6, 3.1, 1.5, 0.2],\n",
       "       [5. , 3.6, 1.4, 0.2],\n",
       "       [5.4, 3.9, 1.7, 0.4],\n",
       "       [4.6, 3.4, 1.4, 0.3],\n",
       "       [5. , 3.4, 1.5, 0.2],\n",
       "       [4.4, 2.9, 1.4, 0.2],\n",
       "       [4.9, 3.1, 1.5, 0.1],\n",
       "       [5.4, 3.7, 1.5, 0.2],\n",
       "       [4.8, 3.4, 1.6, 0.2],\n",
       "       [4.8, 3. , 1.4, 0.1],\n",
       "       [4.3, 3. , 1.1, 0.1],\n",
       "       [5.8, 4. , 1.2, 0.2],\n",
       "       [5.7, 4.4, 1.5, 0.4],\n",
       "       [5.4, 3.9, 1.3, 0.4],\n",
       "       [5.1, 3.5, 1.4, 0.3],\n",
       "       [5.7, 3.8, 1.7, 0.3],\n",
       "       [5.1, 3.8, 1.5, 0.3],\n",
       "       [5.4, 3.4, 1.7, 0.2],\n",
       "       [5.1, 3.7, 1.5, 0.4],\n",
       "       [4.6, 3.6, 1. , 0.2],\n",
       "       [5.1, 3.3, 1.7, 0.5],\n",
       "       [4.8, 3.4, 1.9, 0.2],\n",
       "       [5. , 3. , 1.6, 0.2],\n",
       "       [5. , 3.4, 1.6, 0.4],\n",
       "       [5.2, 3.5, 1.5, 0.2],\n",
       "       [5.2, 3.4, 1.4, 0.2],\n",
       "       [4.7, 3.2, 1.6, 0.2],\n",
       "       [4.8, 3.1, 1.6, 0.2],\n",
       "       [5.4, 3.4, 1.5, 0.4],\n",
       "       [5.2, 4.1, 1.5, 0.1],\n",
       "       [5.5, 4.2, 1.4, 0.2],\n",
       "       [4.9, 3.1, 1.5, 0.2],\n",
       "       [5. , 3.2, 1.2, 0.2],\n",
       "       [5.5, 3.5, 1.3, 0.2],\n",
       "       [4.9, 3.6, 1.4, 0.1],\n",
       "       [4.4, 3. , 1.3, 0.2],\n",
       "       [5.1, 3.4, 1.5, 0.2],\n",
       "       [5. , 3.5, 1.3, 0.3],\n",
       "       [4.5, 2.3, 1.3, 0.3],\n",
       "       [4.4, 3.2, 1.3, 0.2],\n",
       "       [5. , 3.5, 1.6, 0.6],\n",
       "       [5.1, 3.8, 1.9, 0.4],\n",
       "       [4.8, 3. , 1.4, 0.3],\n",
       "       [5.1, 3.8, 1.6, 0.2],\n",
       "       [4.6, 3.2, 1.4, 0.2],\n",
       "       [5.3, 3.7, 1.5, 0.2],\n",
       "       [5. , 3.3, 1.4, 0.2],\n",
       "       [7. , 3.2, 4.7, 1.4],\n",
       "       [6.4, 3.2, 4.5, 1.5],\n",
       "       [6.9, 3.1, 4.9, 1.5],\n",
       "       [5.5, 2.3, 4. , 1.3],\n",
       "       [6.5, 2.8, 4.6, 1.5],\n",
       "       [5.7, 2.8, 4.5, 1.3],\n",
       "       [6.3, 3.3, 4.7, 1.6],\n",
       "       [4.9, 2.4, 3.3, 1. ],\n",
       "       [6.6, 2.9, 4.6, 1.3],\n",
       "       [5.2, 2.7, 3.9, 1.4],\n",
       "       [5. , 2. , 3.5, 1. ],\n",
       "       [5.9, 3. , 4.2, 1.5],\n",
       "       [6. , 2.2, 4. , 1. ],\n",
       "       [6.1, 2.9, 4.7, 1.4],\n",
       "       [5.6, 2.9, 3.6, 1.3],\n",
       "       [6.7, 3.1, 4.4, 1.4],\n",
       "       [5.6, 3. , 4.5, 1.5],\n",
       "       [5.8, 2.7, 4.1, 1. ],\n",
       "       [6.2, 2.2, 4.5, 1.5],\n",
       "       [5.6, 2.5, 3.9, 1.1],\n",
       "       [5.9, 3.2, 4.8, 1.8],\n",
       "       [6.1, 2.8, 4. , 1.3],\n",
       "       [6.3, 2.5, 4.9, 1.5],\n",
       "       [6.1, 2.8, 4.7, 1.2],\n",
       "       [6.4, 2.9, 4.3, 1.3],\n",
       "       [6.6, 3. , 4.4, 1.4],\n",
       "       [6.8, 2.8, 4.8, 1.4],\n",
       "       [6.7, 3. , 5. , 1.7],\n",
       "       [6. , 2.9, 4.5, 1.5],\n",
       "       [5.7, 2.6, 3.5, 1. ],\n",
       "       [5.5, 2.4, 3.8, 1.1],\n",
       "       [5.5, 2.4, 3.7, 1. ],\n",
       "       [5.8, 2.7, 3.9, 1.2],\n",
       "       [6. , 2.7, 5.1, 1.6],\n",
       "       [5.4, 3. , 4.5, 1.5],\n",
       "       [6. , 3.4, 4.5, 1.6],\n",
       "       [6.7, 3.1, 4.7, 1.5],\n",
       "       [6.3, 2.3, 4.4, 1.3],\n",
       "       [5.6, 3. , 4.1, 1.3],\n",
       "       [5.5, 2.5, 4. , 1.3],\n",
       "       [5.5, 2.6, 4.4, 1.2],\n",
       "       [6.1, 3. , 4.6, 1.4],\n",
       "       [5.8, 2.6, 4. , 1.2],\n",
       "       [5. , 2.3, 3.3, 1. ],\n",
       "       [5.6, 2.7, 4.2, 1.3],\n",
       "       [5.7, 3. , 4.2, 1.2],\n",
       "       [5.7, 2.9, 4.2, 1.3],\n",
       "       [6.2, 2.9, 4.3, 1.3],\n",
       "       [5.1, 2.5, 3. , 1.1],\n",
       "       [5.7, 2.8, 4.1, 1.3],\n",
       "       [6.3, 3.3, 6. , 2.5],\n",
       "       [5.8, 2.7, 5.1, 1.9],\n",
       "       [7.1, 3. , 5.9, 2.1],\n",
       "       [6.3, 2.9, 5.6, 1.8],\n",
       "       [6.5, 3. , 5.8, 2.2],\n",
       "       [7.6, 3. , 6.6, 2.1],\n",
       "       [4.9, 2.5, 4.5, 1.7],\n",
       "       [7.3, 2.9, 6.3, 1.8],\n",
       "       [6.7, 2.5, 5.8, 1.8],\n",
       "       [7.2, 3.6, 6.1, 2.5],\n",
       "       [6.5, 3.2, 5.1, 2. ],\n",
       "       [6.4, 2.7, 5.3, 1.9],\n",
       "       [6.8, 3. , 5.5, 2.1],\n",
       "       [5.7, 2.5, 5. , 2. ],\n",
       "       [5.8, 2.8, 5.1, 2.4],\n",
       "       [6.4, 3.2, 5.3, 2.3],\n",
       "       [6.5, 3. , 5.5, 1.8],\n",
       "       [7.7, 3.8, 6.7, 2.2],\n",
       "       [7.7, 2.6, 6.9, 2.3],\n",
       "       [6. , 2.2, 5. , 1.5],\n",
       "       [6.9, 3.2, 5.7, 2.3],\n",
       "       [5.6, 2.8, 4.9, 2. ],\n",
       "       [7.7, 2.8, 6.7, 2. ],\n",
       "       [6.3, 2.7, 4.9, 1.8],\n",
       "       [6.7, 3.3, 5.7, 2.1],\n",
       "       [7.2, 3.2, 6. , 1.8],\n",
       "       [6.2, 2.8, 4.8, 1.8],\n",
       "       [6.1, 3. , 4.9, 1.8],\n",
       "       [6.4, 2.8, 5.6, 2.1],\n",
       "       [7.2, 3. , 5.8, 1.6],\n",
       "       [7.4, 2.8, 6.1, 1.9],\n",
       "       [7.9, 3.8, 6.4, 2. ],\n",
       "       [6.4, 2.8, 5.6, 2.2],\n",
       "       [6.3, 2.8, 5.1, 1.5],\n",
       "       [6.1, 2.6, 5.6, 1.4],\n",
       "       [7.7, 3. , 6.1, 2.3],\n",
       "       [6.3, 3.4, 5.6, 2.4],\n",
       "       [6.4, 3.1, 5.5, 1.8],\n",
       "       [6. , 3. , 4.8, 1.8],\n",
       "       [6.9, 3.1, 5.4, 2.1],\n",
       "       [6.7, 3.1, 5.6, 2.4],\n",
       "       [6.9, 3.1, 5.1, 2.3],\n",
       "       [5.8, 2.7, 5.1, 1.9],\n",
       "       [6.8, 3.2, 5.9, 2.3],\n",
       "       [6.7, 3.3, 5.7, 2.5],\n",
       "       [6.7, 3. , 5.2, 2.3],\n",
       "       [6.3, 2.5, 5. , 1.9],\n",
       "       [6.5, 3. , 5.2, 2. ],\n",
       "       [6.2, 3.4, 5.4, 2.3],\n",
       "       [5.9, 3. , 5.1, 1.8]])"
      ]
     },
     "execution_count": 3,
     "metadata": {},
     "output_type": "execute_result"
    }
   ],
   "source": [
    "iris_dataset['data']"
   ]
  },
  {
   "cell_type": "code",
   "execution_count": 4,
   "metadata": {},
   "outputs": [
    {
     "data": {
      "text/plain": [
       "array([0, 0, 0, 0, 0, 0, 0, 0, 0, 0, 0, 0, 0, 0, 0, 0, 0, 0, 0, 0, 0, 0,\n",
       "       0, 0, 0, 0, 0, 0, 0, 0, 0, 0, 0, 0, 0, 0, 0, 0, 0, 0, 0, 0, 0, 0,\n",
       "       0, 0, 0, 0, 0, 0, 1, 1, 1, 1, 1, 1, 1, 1, 1, 1, 1, 1, 1, 1, 1, 1,\n",
       "       1, 1, 1, 1, 1, 1, 1, 1, 1, 1, 1, 1, 1, 1, 1, 1, 1, 1, 1, 1, 1, 1,\n",
       "       1, 1, 1, 1, 1, 1, 1, 1, 1, 1, 1, 1, 2, 2, 2, 2, 2, 2, 2, 2, 2, 2,\n",
       "       2, 2, 2, 2, 2, 2, 2, 2, 2, 2, 2, 2, 2, 2, 2, 2, 2, 2, 2, 2, 2, 2,\n",
       "       2, 2, 2, 2, 2, 2, 2, 2, 2, 2, 2, 2, 2, 2, 2, 2, 2, 2])"
      ]
     },
     "execution_count": 4,
     "metadata": {},
     "output_type": "execute_result"
    }
   ],
   "source": [
    "iris_dataset['target']"
   ]
  },
  {
   "cell_type": "code",
   "execution_count": 244,
   "metadata": {},
   "outputs": [],
   "source": [
    "X_train, X_test, Y_train, Y_test = train_test_split(iris_dataset['data'], iris_dataset['target'], random_state = 0)"
   ]
  },
  {
   "cell_type": "code",
   "execution_count": 76,
   "metadata": {},
   "outputs": [
    {
     "data": {
      "text/plain": [
       "(112, 4)"
      ]
     },
     "execution_count": 76,
     "metadata": {},
     "output_type": "execute_result"
    }
   ],
   "source": [
    "X_train.shape"
   ]
  },
  {
   "cell_type": "code",
   "execution_count": 11,
   "metadata": {},
   "outputs": [
    {
     "data": {
      "text/plain": [
       "(38, 4)"
      ]
     },
     "execution_count": 11,
     "metadata": {},
     "output_type": "execute_result"
    }
   ],
   "source": [
    "X_test.shape"
   ]
  },
  {
   "cell_type": "code",
   "execution_count": 12,
   "metadata": {},
   "outputs": [
    {
     "data": {
      "text/plain": [
       "(112,)"
      ]
     },
     "execution_count": 12,
     "metadata": {},
     "output_type": "execute_result"
    }
   ],
   "source": [
    "Y_train.shape"
   ]
  },
  {
   "cell_type": "code",
   "execution_count": 13,
   "metadata": {},
   "outputs": [
    {
     "data": {
      "text/plain": [
       "(38,)"
      ]
     },
     "execution_count": 13,
     "metadata": {},
     "output_type": "execute_result"
    }
   ],
   "source": [
    "Y_test.shape"
   ]
  },
  {
   "cell_type": "markdown",
   "metadata": {},
   "source": [
    "##??? from sklearn.preprocessing import StandardScaler"
   ]
  },
  {
   "cell_type": "code",
   "execution_count": 180,
   "metadata": {},
   "outputs": [],
   "source": [
    "import matplotlib.pyplot as plt"
   ]
  },
  {
   "cell_type": "markdown",
   "metadata": {},
   "source": [
    "## 1. Decision Trees"
   ]
  },
  {
   "cell_type": "code",
   "execution_count": 13,
   "metadata": {},
   "outputs": [],
   "source": [
    "from sklearn import tree\n",
    "from sklearn.tree import DecisionTreeClassifier"
   ]
  },
  {
   "cell_type": "code",
   "execution_count": 72,
   "metadata": {},
   "outputs": [
    {
     "name": "stdout",
     "output_type": "stream",
     "text": [
      "DecisionTreeClassifier(class_weight=None, criterion='gini', max_depth=None,\n",
      "            max_features=None, max_leaf_nodes=None,\n",
      "            min_impurity_decrease=0.0, min_impurity_split=None,\n",
      "            min_samples_leaf=1, min_samples_split=2,\n",
      "            min_weight_fraction_leaf=0.0, presort=False, random_state=0,\n",
      "            splitter='best')\n"
     ]
    }
   ],
   "source": [
    "clf = DecisionTreeClassifier(criterion='gini',random_state= 0)\n",
    "clf.fit(X_train, Y_train)\n",
    "print(clf)"
   ]
  },
  {
   "cell_type": "code",
   "execution_count": 75,
   "metadata": {},
   "outputs": [
    {
     "name": "stdout",
     "output_type": "stream",
     "text": [
      "[1 1 2 0 2 0 0 1 2 2 2 2 1 2 1 1 2 2 2 2 1 2 1 0 2 1 1 1 1 2 0 0 2 1 0 0 1\n",
      " 0 2 1 0 1 2 1 0 2 2 2 2 0 0 2 2 0 2 0 2 2 0 0 2 0 0 0 1 2 2 0 0 0 1 1 0 0\n",
      " 1 0 2 1 2 1 0 2 0 2 0 0 2 0 2 1 1 1 2 2 1 1 0 1 2 2 0 1 1 1 1 0 0 0 2 1 2\n",
      " 0]\n",
      "train data accuracy: 1.0\n",
      "test data accuracy: 0.9736842105263158\n"
     ]
    }
   ],
   "source": [
    "predicted = clf.predict(X_train)\n",
    "print(predicted)\n",
    "print('train data accuracy:', clf.score(X_train, Y_train))\n",
    "print('test data accuracy:', clf.score(X_test, Y_test))"
   ]
  },
  {
   "cell_type": "code",
   "execution_count": 62,
   "metadata": {},
   "outputs": [
    {
     "name": "stdout",
     "output_type": "stream",
     "text": [
      "DecisionTreeClassifier(class_weight=None, criterion='gini', max_depth=3,\n",
      "            max_features=None, max_leaf_nodes=None,\n",
      "            min_impurity_decrease=0.0, min_impurity_split=None,\n",
      "            min_samples_leaf=1, min_samples_split=2,\n",
      "            min_weight_fraction_leaf=0.0, presort=False, random_state=0,\n",
      "            splitter='best')\n",
      "[1 1 2 0 2 0 0 1 2 2 2 2 1 2 1 1 2 2 2 2 1 2 1 0 2 1 1 1 1 2 0 0 2 1 0 0 1\n",
      " 0 2 1 0 1 2 1 0 2 2 2 2 0 0 2 2 0 2 0 2 2 0 0 2 0 0 0 1 2 2 0 0 0 1 1 0 0\n",
      " 1 0 2 1 2 1 0 2 0 2 0 0 2 0 2 1 1 1 2 2 1 2 0 1 2 2 0 1 1 2 1 0 0 0 2 1 2\n",
      " 0]\n",
      "train data accuracy: 0.9821428571428571\n",
      "test data accuracy: 0.9736842105263158\n"
     ]
    }
   ],
   "source": [
    "clf = DecisionTreeClassifier(criterion='gini', max_depth = 3, random_state= 0)\n",
    "clf.fit(X_train, Y_train)\n",
    "print(clf)\n",
    "predicted = clf.predict(X_train)\n",
    "print(predicted)\n",
    "print('train data accuracy:', clf.score(X_train, Y_train))\n",
    "print('test data accuracy:', clf.score(X_test, Y_test))"
   ]
  },
  {
   "cell_type": "code",
   "execution_count": 63,
   "metadata": {},
   "outputs": [
    {
     "name": "stdout",
     "output_type": "stream",
     "text": [
      "DecisionTreeClassifier(class_weight=None, criterion='entropy', max_depth=None,\n",
      "            max_features=None, max_leaf_nodes=None,\n",
      "            min_impurity_decrease=0.0, min_impurity_split=None,\n",
      "            min_samples_leaf=1, min_samples_split=2,\n",
      "            min_weight_fraction_leaf=0.0, presort=False, random_state=0,\n",
      "            splitter='best')\n",
      "[1 1 2 0 2 0 0 1 2 2 2 2 1 2 1 1 2 2 2 2 1 2 1 0 2 1 1 1 1 2 0 0 2 1 0 0 1\n",
      " 0 2 1 0 1 2 1 0 2 2 2 2 0 0 2 2 0 2 0 2 2 0 0 2 0 0 0 1 2 2 0 0 0 1 1 0 0\n",
      " 1 0 2 1 2 1 0 2 0 2 0 0 2 0 2 1 1 1 2 2 1 1 0 1 2 2 0 1 1 1 1 0 0 0 2 1 2\n",
      " 0]\n",
      "train data accuracy: 1.0\n",
      "test data accuracy: 0.9736842105263158\n"
     ]
    }
   ],
   "source": [
    "clf = DecisionTreeClassifier(criterion='entropy', random_state= 0)\n",
    "clf.fit(X_train, Y_train)\n",
    "print(clf)\n",
    "predicted = clf.predict(X_train)\n",
    "print(predicted)\n",
    "print('train data accuracy:', clf.score(X_train, Y_train))\n",
    "print('test data accuracy:', clf.score(X_test, Y_test))"
   ]
  },
  {
   "cell_type": "code",
   "execution_count": 64,
   "metadata": {},
   "outputs": [
    {
     "name": "stdout",
     "output_type": "stream",
     "text": [
      "DecisionTreeClassifier(class_weight=None, criterion='entropy', max_depth=3,\n",
      "            max_features=None, max_leaf_nodes=None,\n",
      "            min_impurity_decrease=0.0, min_impurity_split=None,\n",
      "            min_samples_leaf=1, min_samples_split=2,\n",
      "            min_weight_fraction_leaf=0.0, presort=False, random_state=0,\n",
      "            splitter='best')\n",
      "[1 1 2 0 2 0 0 1 2 2 2 2 1 2 1 1 2 2 2 2 1 2 1 0 2 1 1 1 1 2 0 0 2 1 0 0 1\n",
      " 0 2 1 0 1 2 1 0 2 2 2 2 0 0 2 2 0 2 0 2 2 0 0 2 0 0 0 1 2 2 0 0 0 1 1 0 0\n",
      " 1 0 2 1 2 1 0 2 0 2 0 0 2 0 2 1 1 1 2 2 1 2 0 1 2 2 0 1 1 2 1 0 0 0 2 1 2\n",
      " 0]\n",
      "train data accuracy: 0.9821428571428571\n",
      "test data accuracy: 0.9736842105263158\n"
     ]
    }
   ],
   "source": [
    "clf = DecisionTreeClassifier(criterion='entropy', max_depth = 3, random_state= 0)\n",
    "clf.fit(X_train, Y_train)\n",
    "print(clf)\n",
    "predicted = clf.predict(X_train)\n",
    "print(predicted)\n",
    "print('train data accuracy:', clf.score(X_train, Y_train))\n",
    "print('test data accuracy:', clf.score(X_test, Y_test))"
   ]
  },
  {
   "cell_type": "code",
   "execution_count": 181,
   "metadata": {},
   "outputs": [
    {
     "name": "stdout",
     "output_type": "stream",
     "text": [
      "# of training instance: 11\n",
      "train data accuracy: 1.0\n",
      "test data accuracy: 0.6052631578947368\n",
      "# of training instance: 22\n",
      "train data accuracy: 1.0\n",
      "test data accuracy: 0.9473684210526315\n",
      "# of training instance: 33\n",
      "train data accuracy: 1.0\n",
      "test data accuracy: 0.9473684210526315\n",
      "# of training instance: 44\n",
      "train data accuracy: 1.0\n",
      "test data accuracy: 0.9736842105263158\n",
      "# of training instance: 56\n",
      "train data accuracy: 1.0\n",
      "test data accuracy: 0.9736842105263158\n",
      "# of training instance: 67\n",
      "train data accuracy: 1.0\n",
      "test data accuracy: 0.9736842105263158\n",
      "# of training instance: 78\n",
      "train data accuracy: 1.0\n",
      "test data accuracy: 0.9736842105263158\n",
      "# of training instance: 89\n",
      "train data accuracy: 1.0\n",
      "test data accuracy: 0.9736842105263158\n",
      "# of training instance: 100\n",
      "train data accuracy: 1.0\n",
      "test data accuracy: 0.9736842105263158\n",
      "# of training instance: 112\n",
      "train data accuracy: 1.0\n",
      "test data accuracy: 0.9736842105263158\n"
     ]
    },
    {
     "data": {
      "text/plain": [
       "<matplotlib.legend.Legend at 0x1f882c9d898>"
      ]
     },
     "execution_count": 181,
     "metadata": {},
     "output_type": "execute_result"
    },
    {
     "data": {
      "image/png": "[encoded data removed]",
      "text/plain": [
       "<Figure size 432x288 with 1 Axes>"
      ]
     },
     "metadata": {
      "needs_background": "light"
     },
     "output_type": "display_data"
    }
   ],
   "source": [
    "num = len(X_train)\n",
    "data_num = []\n",
    "train_acc = []\n",
    "test_acc= []\n",
    "for i in range(10):\n",
    "    clf = DecisionTreeClassifier(max_depth = 10, random_state= 0)\n",
    "    data_num.append(int(num/10*(i+1)))\n",
    "    x_train = X_train[:int(num/10*(i+1))]\n",
    "    y_train = Y_train[:int(num/10*(i+1))]\n",
    "    clf.fit(x_train, y_train)\n",
    "    train_acc.append(clf.score(x_train, y_train))\n",
    "    test_acc.append(clf.score(X_test, Y_test))\n",
    "    print('# of training instance:', int(num/10*(i+1)))\n",
    "    print('train data accuracy:', clf.score(x_train, y_train))\n",
    "    print('test data accuracy:', clf.score(X_test, Y_test))\n",
    "    \n",
    "plt.plot(data_num,train_acc,color='red',label='train_acc')\n",
    "plt.plot(data_num,test_acc,color='blue',label='test_acc')\n",
    "\n",
    "plt.title(u'learning curve')\n",
    "plt.xlabel(u'size of training data')\n",
    "plt.ylabel(u'accuracy')\n",
    "\n",
    "plt.legend()"
   ]
  },
  {
   "cell_type": "code",
   "execution_count": 186,
   "metadata": {},
   "outputs": [
    {
     "name": "stdout",
     "output_type": "stream",
     "text": [
      "max_depth: 1\n",
      "train data accuracy: 0.6964285714285714\n",
      "test data accuracy: 0.5789473684210527\n",
      "max_depth: 2\n",
      "train data accuracy: 0.9642857142857143\n",
      "test data accuracy: 0.8947368421052632\n",
      "max_depth: 3\n",
      "train data accuracy: 0.9821428571428571\n",
      "test data accuracy: 0.9736842105263158\n",
      "max_depth: 4\n",
      "train data accuracy: 1.0\n",
      "test data accuracy: 0.9736842105263158\n",
      "max_depth: 5\n",
      "train data accuracy: 1.0\n",
      "test data accuracy: 0.9736842105263158\n",
      "max_depth: 6\n",
      "train data accuracy: 1.0\n",
      "test data accuracy: 0.9736842105263158\n",
      "max_depth: 7\n",
      "train data accuracy: 1.0\n",
      "test data accuracy: 0.9736842105263158\n",
      "max_depth: 8\n",
      "train data accuracy: 1.0\n",
      "test data accuracy: 0.9736842105263158\n",
      "max_depth: 9\n",
      "train data accuracy: 1.0\n",
      "test data accuracy: 0.9736842105263158\n",
      "max_depth: 10\n",
      "train data accuracy: 1.0\n",
      "test data accuracy: 0.9736842105263158\n",
      "max_depth: 11\n",
      "train data accuracy: 1.0\n",
      "test data accuracy: 0.9736842105263158\n",
      "max_depth: 12\n",
      "train data accuracy: 1.0\n",
      "test data accuracy: 0.9736842105263158\n",
      "max_depth: 13\n",
      "train data accuracy: 1.0\n",
      "test data accuracy: 0.9736842105263158\n",
      "max_depth: 14\n",
      "train data accuracy: 1.0\n",
      "test data accuracy: 0.9736842105263158\n",
      "max_depth: 15\n",
      "train data accuracy: 1.0\n",
      "test data accuracy: 0.9736842105263158\n"
     ]
    },
    {
     "data": {
      "text/plain": [
       "<matplotlib.legend.Legend at 0x1f882eadc50>"
      ]
     },
     "execution_count": 186,
     "metadata": {},
     "output_type": "execute_result"
    },
    {
     "data": {
      "image/png": "[encoded data removed]",
      "text/plain": [
       "<Figure size 432x288 with 1 Axes>"
      ]
     },
     "metadata": {
      "needs_background": "light"
     },
     "output_type": "display_data"
    }
   ],
   "source": [
    "num = len(X_train)\n",
    "max_depth = []\n",
    "train_acc = []\n",
    "test_acc= []\n",
    "for i in range(15):\n",
    "    clf = DecisionTreeClassifier(max_depth = i+1, random_state= 0)\n",
    "    max_depth.append(i+1)\n",
    "    x_train = X_train\n",
    "    y_train = Y_train\n",
    "    clf.fit(x_train, y_train)\n",
    "    train_acc.append(clf.score(x_train, y_train))\n",
    "    test_acc.append(clf.score(X_test, Y_test))\n",
    "    print('max_depth:', i+1)\n",
    "    print('train data accuracy:', clf.score(X_train, Y_train))\n",
    "    print('test data accuracy:', clf.score(X_test, Y_test))\n",
    "    \n",
    "plt.plot(max_depth,train_acc,color='red',label='train_acc')\n",
    "plt.plot(max_depth,test_acc,color='blue',label='test_acc')\n",
    "\n",
    "plt.title(u'max_depth VS accuracy')\n",
    "plt.xlabel(u'max_depth')\n",
    "plt.ylabel(u'accuracy')\n",
    "\n",
    "plt.legend()"
   ]
  },
  {
   "cell_type": "markdown",
   "metadata": {},
   "source": [
    "## 2. Neural Network"
   ]
  },
  {
   "cell_type": "code",
   "execution_count": 14,
   "metadata": {},
   "outputs": [],
   "source": [
    "from sklearn.neural_network import MLPClassifier"
   ]
  },
  {
   "cell_type": "code",
   "execution_count": 221,
   "metadata": {},
   "outputs": [],
   "source": [
    "NN_model = MLPClassifier(hidden_layer_sizes = (100), random_state = 0, max_iter = 1000).fit(X_train, Y_train)"
   ]
  },
  {
   "cell_type": "code",
   "execution_count": 222,
   "metadata": {},
   "outputs": [
    {
     "name": "stdout",
     "output_type": "stream",
     "text": [
      "train data accuracy: 0.9821428571428571\n",
      "test data accuracy: 0.9736842105263158\n"
     ]
    }
   ],
   "source": [
    "print('train data accuracy:', NN_model.score(X_train, Y_train))\n",
    "print('test data accuracy:', NN_model.score(X_test, Y_test))"
   ]
  },
  {
   "cell_type": "code",
   "execution_count": 225,
   "metadata": {},
   "outputs": [
    {
     "name": "stderr",
     "output_type": "stream",
     "text": [
      "C:\\ProgramData\\Anaconda3\\lib\\site-packages\\sklearn\\neural_network\\multilayer_perceptron.py:562: ConvergenceWarning: Stochastic Optimizer: Maximum iterations (1000) reached and the optimization hasn't converged yet.\n",
      "  % self.max_iter, ConvergenceWarning)\n",
      "C:\\ProgramData\\Anaconda3\\lib\\site-packages\\sklearn\\neural_network\\multilayer_perceptron.py:562: ConvergenceWarning: Stochastic Optimizer: Maximum iterations (1000) reached and the optimization hasn't converged yet.\n",
      "  % self.max_iter, ConvergenceWarning)\n"
     ]
    },
    {
     "name": "stdout",
     "output_type": "stream",
     "text": [
      "# of neural: 10\n",
      "train data accuracy: 0.9821428571428571\n",
      "test data accuracy: 0.9736842105263158\n"
     ]
    },
    {
     "name": "stderr",
     "output_type": "stream",
     "text": [
      "C:\\ProgramData\\Anaconda3\\lib\\site-packages\\sklearn\\neural_network\\multilayer_perceptron.py:562: ConvergenceWarning: Stochastic Optimizer: Maximum iterations (1000) reached and the optimization hasn't converged yet.\n",
      "  % self.max_iter, ConvergenceWarning)\n",
      "C:\\ProgramData\\Anaconda3\\lib\\site-packages\\sklearn\\neural_network\\multilayer_perceptron.py:562: ConvergenceWarning: Stochastic Optimizer: Maximum iterations (1000) reached and the optimization hasn't converged yet.\n",
      "  % self.max_iter, ConvergenceWarning)\n"
     ]
    },
    {
     "name": "stdout",
     "output_type": "stream",
     "text": [
      "# of neural: 20\n",
      "train data accuracy: 0.9821428571428571\n",
      "test data accuracy: 0.9473684210526315\n",
      "# of neural: 30\n",
      "train data accuracy: 0.9821428571428571\n",
      "test data accuracy: 0.9736842105263158\n",
      "# of neural: 40\n",
      "train data accuracy: 0.9821428571428571\n",
      "test data accuracy: 0.9736842105263158\n",
      "# of neural: 50\n",
      "train data accuracy: 0.9821428571428571\n",
      "test data accuracy: 0.9736842105263158\n",
      "# of neural: 60\n",
      "train data accuracy: 0.9821428571428571\n",
      "test data accuracy: 0.9736842105263158\n",
      "# of neural: 70\n",
      "train data accuracy: 0.9821428571428571\n",
      "test data accuracy: 0.9736842105263158\n",
      "# of neural: 80\n",
      "train data accuracy: 0.9821428571428571\n",
      "test data accuracy: 0.9736842105263158\n",
      "# of neural: 90\n",
      "train data accuracy: 0.9821428571428571\n",
      "test data accuracy: 0.9736842105263158\n",
      "# of neural: 100\n",
      "train data accuracy: 0.9821428571428571\n",
      "test data accuracy: 0.9736842105263158\n"
     ]
    },
    {
     "data": {
      "text/plain": [
       "<matplotlib.legend.Legend at 0x1f8869cecc0>"
      ]
     },
     "execution_count": 225,
     "metadata": {},
     "output_type": "execute_result"
    },
    {
     "data": {
      "image/png": "[encoded data removed]",
      "text/plain": [
       "<Figure size 432x288 with 1 Axes>"
      ]
     },
     "metadata": {
      "needs_background": "light"
     },
     "output_type": "display_data"
    }
   ],
   "source": [
    "num = len(X_train)\n",
    "neural_num = []\n",
    "train_acc = []\n",
    "test_acc= []\n",
    "for i in range(10):\n",
    "    NN_model = MLPClassifier(hidden_layer_sizes = (10*(i+1)), random_state = 0, max_iter = 1000).fit(X_train, Y_train)\n",
    "    neural_num.append(10*(i+1))\n",
    "    x_train = X_train\n",
    "    y_train = Y_train\n",
    "    NN_model.fit(x_train, y_train)\n",
    "    train_acc.append(NN_model.score(x_train, y_train))\n",
    "    test_acc.append(NN_model.score(X_test, Y_test))\n",
    "    print('# of neural:', 10*(i+1))\n",
    "    print('train data accuracy:', NN_model.score(x_train, y_train))\n",
    "    print('test data accuracy:', NN_model.score(X_test, Y_test))\n",
    "    \n",
    "plt.plot(neural_num,train_acc,color='red',label='train_acc')\n",
    "plt.plot(neural_num,test_acc,color='blue',label='test_acc')\n",
    "\n",
    "plt.title(u'neural_num VS accuracy')\n",
    "plt.xlabel(u'# of neural')\n",
    "plt.ylabel(u'accuracy')\n",
    "\n",
    "plt.legend()"
   ]
  },
  {
   "cell_type": "code",
   "execution_count": 224,
   "metadata": {},
   "outputs": [
    {
     "name": "stderr",
     "output_type": "stream",
     "text": [
      "C:\\ProgramData\\Anaconda3\\lib\\site-packages\\sklearn\\neural_network\\multilayer_perceptron.py:562: ConvergenceWarning: Stochastic Optimizer: Maximum iterations (100) reached and the optimization hasn't converged yet.\n",
      "  % self.max_iter, ConvergenceWarning)\n",
      "C:\\ProgramData\\Anaconda3\\lib\\site-packages\\sklearn\\neural_network\\multilayer_perceptron.py:562: ConvergenceWarning: Stochastic Optimizer: Maximum iterations (100) reached and the optimization hasn't converged yet.\n",
      "  % self.max_iter, ConvergenceWarning)\n",
      "C:\\ProgramData\\Anaconda3\\lib\\site-packages\\sklearn\\neural_network\\multilayer_perceptron.py:562: ConvergenceWarning: Stochastic Optimizer: Maximum iterations (200) reached and the optimization hasn't converged yet.\n",
      "  % self.max_iter, ConvergenceWarning)\n"
     ]
    },
    {
     "name": "stdout",
     "output_type": "stream",
     "text": [
      "# of iter: 100\n",
      "train data accuracy: 0.9375\n",
      "test data accuracy: 0.7894736842105263\n"
     ]
    },
    {
     "name": "stderr",
     "output_type": "stream",
     "text": [
      "C:\\ProgramData\\Anaconda3\\lib\\site-packages\\sklearn\\neural_network\\multilayer_perceptron.py:562: ConvergenceWarning: Stochastic Optimizer: Maximum iterations (200) reached and the optimization hasn't converged yet.\n",
      "  % self.max_iter, ConvergenceWarning)\n",
      "C:\\ProgramData\\Anaconda3\\lib\\site-packages\\sklearn\\neural_network\\multilayer_perceptron.py:562: ConvergenceWarning: Stochastic Optimizer: Maximum iterations (300) reached and the optimization hasn't converged yet.\n",
      "  % self.max_iter, ConvergenceWarning)\n"
     ]
    },
    {
     "name": "stdout",
     "output_type": "stream",
     "text": [
      "# of iter: 200\n",
      "train data accuracy: 0.9642857142857143\n",
      "test data accuracy: 0.9736842105263158\n"
     ]
    },
    {
     "name": "stderr",
     "output_type": "stream",
     "text": [
      "C:\\ProgramData\\Anaconda3\\lib\\site-packages\\sklearn\\neural_network\\multilayer_perceptron.py:562: ConvergenceWarning: Stochastic Optimizer: Maximum iterations (300) reached and the optimization hasn't converged yet.\n",
      "  % self.max_iter, ConvergenceWarning)\n",
      "C:\\ProgramData\\Anaconda3\\lib\\site-packages\\sklearn\\neural_network\\multilayer_perceptron.py:562: ConvergenceWarning: Stochastic Optimizer: Maximum iterations (400) reached and the optimization hasn't converged yet.\n",
      "  % self.max_iter, ConvergenceWarning)\n"
     ]
    },
    {
     "name": "stdout",
     "output_type": "stream",
     "text": [
      "# of iter: 300\n",
      "train data accuracy: 0.9732142857142857\n",
      "test data accuracy: 0.9736842105263158\n"
     ]
    },
    {
     "name": "stderr",
     "output_type": "stream",
     "text": [
      "C:\\ProgramData\\Anaconda3\\lib\\site-packages\\sklearn\\neural_network\\multilayer_perceptron.py:562: ConvergenceWarning: Stochastic Optimizer: Maximum iterations (400) reached and the optimization hasn't converged yet.\n",
      "  % self.max_iter, ConvergenceWarning)\n"
     ]
    },
    {
     "name": "stdout",
     "output_type": "stream",
     "text": [
      "# of iter: 400\n",
      "train data accuracy: 0.9821428571428571\n",
      "test data accuracy: 0.9736842105263158\n"
     ]
    },
    {
     "name": "stderr",
     "output_type": "stream",
     "text": [
      "C:\\ProgramData\\Anaconda3\\lib\\site-packages\\sklearn\\neural_network\\multilayer_perceptron.py:562: ConvergenceWarning: Stochastic Optimizer: Maximum iterations (500) reached and the optimization hasn't converged yet.\n",
      "  % self.max_iter, ConvergenceWarning)\n",
      "C:\\ProgramData\\Anaconda3\\lib\\site-packages\\sklearn\\neural_network\\multilayer_perceptron.py:562: ConvergenceWarning: Stochastic Optimizer: Maximum iterations (500) reached and the optimization hasn't converged yet.\n",
      "  % self.max_iter, ConvergenceWarning)\n"
     ]
    },
    {
     "name": "stdout",
     "output_type": "stream",
     "text": [
      "# of iter: 500\n",
      "train data accuracy: 0.9821428571428571\n",
      "test data accuracy: 0.9736842105263158\n",
      "# of iter: 600\n",
      "train data accuracy: 0.9821428571428571\n",
      "test data accuracy: 0.9736842105263158\n",
      "# of iter: 700\n",
      "train data accuracy: 0.9821428571428571\n",
      "test data accuracy: 0.9736842105263158\n",
      "# of iter: 800\n",
      "train data accuracy: 0.9821428571428571\n",
      "test data accuracy: 0.9736842105263158\n",
      "# of iter: 900\n",
      "train data accuracy: 0.9821428571428571\n",
      "test data accuracy: 0.9736842105263158\n",
      "# of iter: 1000\n",
      "train data accuracy: 0.9821428571428571\n",
      "test data accuracy: 0.9736842105263158\n"
     ]
    },
    {
     "data": {
      "text/plain": [
       "<matplotlib.legend.Legend at 0x1f88695b9b0>"
      ]
     },
     "execution_count": 224,
     "metadata": {},
     "output_type": "execute_result"
    },
    {
     "data": {
      "image/png": "[encoded data removed]",
      "text/plain": [
       "<Figure size 432x288 with 1 Axes>"
      ]
     },
     "metadata": {
      "needs_background": "light"
     },
     "output_type": "display_data"
    }
   ],
   "source": [
    "num = len(X_train)\n",
    "iter_num = []\n",
    "train_acc = []\n",
    "test_acc= []\n",
    "for i in range(10):\n",
    "    NN_model = MLPClassifier(hidden_layer_sizes = (100), random_state = 0, max_iter = 100*(i+1)).fit(X_train, Y_train)\n",
    "    iter_num.append(100*(i+1))\n",
    "    x_train = X_train\n",
    "    y_train = Y_train\n",
    "    NN_model.fit(x_train, y_train)\n",
    "    train_acc.append(NN_model.score(x_train, y_train))\n",
    "    test_acc.append(NN_model.score(X_test, Y_test))\n",
    "    print('# of iter:', 100*(i+1))\n",
    "    print('train data accuracy:', NN_model.score(x_train, y_train))\n",
    "    print('test data accuracy:', NN_model.score(X_test, Y_test))\n",
    "    \n",
    "plt.plot(iter_num,train_acc,color='red',label='train_acc')\n",
    "plt.plot(iter_num,test_acc,color='blue',label='test_acc')\n",
    "\n",
    "plt.title(u'learning curve')\n",
    "plt.xlabel(u'# of iterations')\n",
    "plt.ylabel(u'accuracy')\n",
    "\n",
    "plt.legend()"
   ]
  },
  {
   "cell_type": "code",
   "execution_count": 203,
   "metadata": {},
   "outputs": [
    {
     "name": "stderr",
     "output_type": "stream",
     "text": [
      "C:\\ProgramData\\Anaconda3\\lib\\site-packages\\sklearn\\neural_network\\multilayer_perceptron.py:562: ConvergenceWarning: Stochastic Optimizer: Maximum iterations (200) reached and the optimization hasn't converged yet.\n",
      "  % self.max_iter, ConvergenceWarning)\n"
     ]
    }
   ],
   "source": [
    "NN_model = MLPClassifier(hidden_layer_sizes = (100,100), random_state = 0, max_iter = 200).fit(X_train, Y_train)"
   ]
  },
  {
   "cell_type": "code",
   "execution_count": 204,
   "metadata": {},
   "outputs": [
    {
     "name": "stdout",
     "output_type": "stream",
     "text": [
      "train data accuracy: 0.9821428571428571\n",
      "test data accuracy: 0.9736842105263158\n"
     ]
    }
   ],
   "source": [
    "print('train data accuracy:', NN_model.score(X_train, Y_train))\n",
    "print('test data accuracy:', NN_model.score(X_test, Y_test))"
   ]
  },
  {
   "cell_type": "code",
   "execution_count": 86,
   "metadata": {},
   "outputs": [],
   "source": [
    "NN_model = MLPClassifier(hidden_layer_sizes = (5,5,5), random_state = 0, max_iter = 100000).fit(X_train, Y_train)"
   ]
  },
  {
   "cell_type": "code",
   "execution_count": 87,
   "metadata": {},
   "outputs": [
    {
     "name": "stdout",
     "output_type": "stream",
     "text": [
      "train data accuracy: 0.9910714285714286\n",
      "test data accuracy: 0.9736842105263158\n"
     ]
    }
   ],
   "source": [
    "print('train data accuracy:', NN_model.score(X_train, Y_train))\n",
    "print('test data accuracy:', NN_model.score(X_test, Y_test))"
   ]
  },
  {
   "cell_type": "code",
   "execution_count": null,
   "metadata": {},
   "outputs": [],
   "source": [
    "https://scikit-learn.org/stable/modules/generated/sklearn.neural_network.MLPClassifier.html"
   ]
  },
  {
   "cell_type": "markdown",
   "metadata": {},
   "source": [
    "## 3. AdaBoost"
   ]
  },
  {
   "cell_type": "code",
   "execution_count": null,
   "metadata": {},
   "outputs": [],
   "source": [
    "https://scikit-learn.org/stable/modules/generated/sklearn.ensemble.AdaBoostClassifier.html"
   ]
  },
  {
   "cell_type": "code",
   "execution_count": 15,
   "metadata": {},
   "outputs": [],
   "source": [
    "from sklearn.ensemble import AdaBoostClassifier"
   ]
  },
  {
   "cell_type": "code",
   "execution_count": 245,
   "metadata": {},
   "outputs": [
    {
     "data": {
      "text/plain": [
       "AdaBoostClassifier(algorithm='SAMME.R',\n",
       "          base_estimator=DecisionTreeClassifier(class_weight=None, criterion='gini', max_depth=None,\n",
       "            max_features=None, max_leaf_nodes=None,\n",
       "            min_impurity_decrease=0.0, min_impurity_split=None,\n",
       "            min_samples_leaf=1, min_samples_split=2,\n",
       "            min_weight_fraction_leaf=0.0, presort=False, random_state=0,\n",
       "            splitter='best'),\n",
       "          learning_rate=1.0, n_estimators=50, random_state=0)"
      ]
     },
     "execution_count": 245,
     "metadata": {},
     "output_type": "execute_result"
    }
   ],
   "source": [
    "adbot = AdaBoostClassifier(DecisionTreeClassifier(criterion='gini',random_state= 0), random_state = 0)\n",
    "adbot.fit(X_train,Y_train)"
   ]
  },
  {
   "cell_type": "code",
   "execution_count": 247,
   "metadata": {},
   "outputs": [
    {
     "name": "stdout",
     "output_type": "stream",
     "text": [
      "train data accuracy: 1.0\n",
      "test data accuracy: 0.9736842105263158\n"
     ]
    }
   ],
   "source": [
    "print('train data accuracy:', adbot.score(X_train, Y_train))\n",
    "print('test data accuracy:', adbot.score(X_test, Y_test))"
   ]
  },
  {
   "cell_type": "code",
   "execution_count": 248,
   "metadata": {},
   "outputs": [
    {
     "name": "stdout",
     "output_type": "stream",
     "text": [
      "# of training instance: 11\n",
      "train data accuracy: 1.0\n",
      "test data accuracy: 0.6052631578947368\n",
      "# of training instance: 22\n",
      "train data accuracy: 1.0\n",
      "test data accuracy: 0.9473684210526315\n",
      "# of training instance: 33\n",
      "train data accuracy: 1.0\n",
      "test data accuracy: 0.9473684210526315\n",
      "# of training instance: 44\n",
      "train data accuracy: 1.0\n",
      "test data accuracy: 0.9736842105263158\n",
      "# of training instance: 56\n",
      "train data accuracy: 1.0\n",
      "test data accuracy: 0.9736842105263158\n",
      "# of training instance: 67\n",
      "train data accuracy: 1.0\n",
      "test data accuracy: 0.9736842105263158\n",
      "# of training instance: 78\n",
      "train data accuracy: 1.0\n",
      "test data accuracy: 0.9736842105263158\n",
      "# of training instance: 89\n",
      "train data accuracy: 1.0\n",
      "test data accuracy: 0.9736842105263158\n",
      "# of training instance: 100\n",
      "train data accuracy: 1.0\n",
      "test data accuracy: 0.9736842105263158\n",
      "# of training instance: 112\n",
      "train data accuracy: 1.0\n",
      "test data accuracy: 0.9736842105263158\n"
     ]
    },
    {
     "data": {
      "text/plain": [
       "<matplotlib.legend.Legend at 0x1f886a64d68>"
      ]
     },
     "execution_count": 248,
     "metadata": {},
     "output_type": "execute_result"
    },
    {
     "data": {
      "image/png": "[encoded data removed]",
      "text/plain": [
       "<Figure size 432x288 with 1 Axes>"
      ]
     },
     "metadata": {
      "needs_background": "light"
     },
     "output_type": "display_data"
    }
   ],
   "source": [
    "num = len(X_train)\n",
    "data_num = []\n",
    "train_acc = []\n",
    "test_acc= []\n",
    "for i in range(10):\n",
    "    adbot = AdaBoostClassifier(DecisionTreeClassifier(criterion='gini',random_state= 0), random_state = 0)  \n",
    "    data_num.append(int(num/10*(i+1)))\n",
    "    x_train = X_train[:int(num/10*(i+1))]\n",
    "    y_train = Y_train[:int(num/10*(i+1))]\n",
    "    adbot.fit(x_train, y_train)\n",
    "    train_acc.append(adbot.score(x_train, y_train))\n",
    "    test_acc.append(adbot.score(X_test, Y_test))\n",
    "    print('# of training instance:', int(num/10*(i+1)))\n",
    "    print('train data accuracy:', adbot.score(x_train, y_train))\n",
    "    print('test data accuracy:', adbot.score(X_test, Y_test))\n",
    "    \n",
    "plt.plot(data_num,train_acc,color='red',label='train_acc')\n",
    "plt.plot(data_num,test_acc,color='blue',label='test_acc')\n",
    "\n",
    "plt.title(u'learning curve')\n",
    "plt.xlabel(u'size of training data')\n",
    "plt.ylabel(u'accuracy')\n",
    "\n",
    "plt.legend()"
   ]
  },
  {
   "cell_type": "markdown",
   "metadata": {},
   "source": [
    "## 4. SVM"
   ]
  },
  {
   "cell_type": "code",
   "execution_count": null,
   "metadata": {},
   "outputs": [],
   "source": [
    "https://scikit-learn.org/stable/modules/generated/sklearn.svm.SVC.html"
   ]
  },
  {
   "cell_type": "code",
   "execution_count": 16,
   "metadata": {},
   "outputs": [],
   "source": [
    "from sklearn import svm"
   ]
  },
  {
   "cell_type": "code",
   "execution_count": 106,
   "metadata": {},
   "outputs": [
    {
     "data": {
      "text/plain": [
       "SVC(C=1.0, cache_size=200, class_weight=None, coef0=0.0,\n",
       "  decision_function_shape='ovr', degree=3, gamma=0.01, kernel='rbf',\n",
       "  max_iter=-1, probability=False, random_state=0, shrinking=True,\n",
       "  tol=0.001, verbose=False)"
      ]
     },
     "execution_count": 106,
     "metadata": {},
     "output_type": "execute_result"
    }
   ],
   "source": [
    "svm_model = svm.SVC(C=1.0, kernel = 'rbf', decision_function_shape = 'ovr', gamma = 0.01, random_state = 0)\n",
    "svm_model.fit(X_train, Y_train)"
   ]
  },
  {
   "cell_type": "code",
   "execution_count": 107,
   "metadata": {},
   "outputs": [
    {
     "name": "stdout",
     "output_type": "stream",
     "text": [
      "train data accuracy: 0.9375\n",
      "test data accuracy: 0.9210526315789473\n"
     ]
    }
   ],
   "source": [
    "print('train data accuracy:', svm_model.score(X_train, Y_train))\n",
    "print('test data accuracy:', svm_model.score(X_test, Y_test))"
   ]
  },
  {
   "cell_type": "code",
   "execution_count": 110,
   "metadata": {},
   "outputs": [
    {
     "data": {
      "text/plain": [
       "SVC(C=1.0, cache_size=200, class_weight=None, coef0=0.0,\n",
       "  decision_function_shape='ovr', degree=3, gamma=0.01, kernel='linear',\n",
       "  max_iter=-1, probability=False, random_state=0, shrinking=True,\n",
       "  tol=0.001, verbose=False)"
      ]
     },
     "execution_count": 110,
     "metadata": {},
     "output_type": "execute_result"
    }
   ],
   "source": [
    "svm_model = svm.SVC(C=1.0, kernel = 'linear', decision_function_shape = 'ovr', gamma = 0.01, random_state = 0)\n",
    "svm_model.fit(X_train, Y_train)"
   ]
  },
  {
   "cell_type": "code",
   "execution_count": 111,
   "metadata": {},
   "outputs": [
    {
     "name": "stdout",
     "output_type": "stream",
     "text": [
      "train data accuracy: 0.9821428571428571\n",
      "test data accuracy: 0.9736842105263158\n"
     ]
    }
   ],
   "source": [
    "print('train data accuracy:', svm_model.score(X_train, Y_train))\n",
    "print('test data accuracy:', svm_model.score(X_test, Y_test))"
   ]
  },
  {
   "cell_type": "code",
   "execution_count": 108,
   "metadata": {},
   "outputs": [
    {
     "data": {
      "text/plain": [
       "SVC(C=1.0, cache_size=200, class_weight=None, coef0=0.0,\n",
       "  decision_function_shape='ovr', degree=3, gamma=0.01, kernel='sigmoid',\n",
       "  max_iter=-1, probability=False, random_state=0, shrinking=True,\n",
       "  tol=0.001, verbose=False)"
      ]
     },
     "execution_count": 108,
     "metadata": {},
     "output_type": "execute_result"
    }
   ],
   "source": [
    "svm_model = svm.SVC(C=1.0, kernel = 'sigmoid', decision_function_shape = 'ovr', gamma = 0.01, random_state = 0)\n",
    "svm_model.fit(X_train, Y_train)"
   ]
  },
  {
   "cell_type": "code",
   "execution_count": 109,
   "metadata": {},
   "outputs": [
    {
     "name": "stdout",
     "output_type": "stream",
     "text": [
      "train data accuracy: 0.6964285714285714\n",
      "test data accuracy: 0.5789473684210527\n"
     ]
    }
   ],
   "source": [
    "print('train data accuracy:', svm_model.score(X_train, Y_train))\n",
    "print('test data accuracy:', svm_model.score(X_test, Y_test))"
   ]
  },
  {
   "cell_type": "markdown",
   "metadata": {},
   "source": [
    "## 5. KNN"
   ]
  },
  {
   "cell_type": "code",
   "execution_count": 17,
   "metadata": {},
   "outputs": [],
   "source": [
    "from sklearn.neighbors import KNeighborsClassifier"
   ]
  },
  {
   "cell_type": "code",
   "execution_count": 113,
   "metadata": {},
   "outputs": [
    {
     "data": {
      "text/plain": [
       "KNeighborsClassifier(algorithm='auto', leaf_size=30, metric='minkowski',\n",
       "           metric_params=None, n_jobs=None, n_neighbors=3, p=2,\n",
       "           weights='uniform')"
      ]
     },
     "execution_count": 113,
     "metadata": {},
     "output_type": "execute_result"
    }
   ],
   "source": [
    "knn_model = KNeighborsClassifier(3)\n",
    "knn_model.fit(X_train, Y_train)"
   ]
  },
  {
   "cell_type": "code",
   "execution_count": 115,
   "metadata": {},
   "outputs": [
    {
     "name": "stdout",
     "output_type": "stream",
     "text": [
      "train data accuracy: 0.9642857142857143\n",
      "test data accuracy: 0.9736842105263158\n"
     ]
    }
   ],
   "source": [
    "print('train data accuracy:', knn_model.score(X_train, Y_train))\n",
    "print('test data accuracy:', knn_model.score(X_test, Y_test))"
   ]
  },
  {
   "cell_type": "code",
   "execution_count": null,
   "metadata": {},
   "outputs": [],
   "source": []
  },
  {
   "cell_type": "code",
   "execution_count": null,
   "metadata": {},
   "outputs": [],
   "source": []
  },
  {
   "cell_type": "markdown",
   "metadata": {},
   "source": [
    "## New Data - MNIST"
   ]
  },
  {
   "cell_type": "code",
   "execution_count": 5,
   "metadata": {},
   "outputs": [],
   "source": [
    "from sklearn.datasets import fetch_mldata"
   ]
  },
  {
   "cell_type": "code",
   "execution_count": 6,
   "metadata": {},
   "outputs": [
    {
     "name": "stderr",
     "output_type": "stream",
     "text": [
      "C:\\ProgramData\\Anaconda3\\lib\\site-packages\\sklearn\\utils\\deprecation.py:77: DeprecationWarning: Function fetch_mldata is deprecated; fetch_mldata was deprecated in version 0.20 and will be removed in version 0.22\n",
      "  warnings.warn(msg, category=DeprecationWarning)\n",
      "C:\\ProgramData\\Anaconda3\\lib\\site-packages\\sklearn\\utils\\deprecation.py:77: DeprecationWarning: Function mldata_filename is deprecated; mldata_filename was deprecated in version 0.20 and will be removed in version 0.22\n",
      "  warnings.warn(msg, category=DeprecationWarning)\n"
     ]
    }
   ],
   "source": [
    "mnist = fetch_mldata('MNIST original', data_home = './datasets')"
   ]
  },
  {
   "cell_type": "code",
   "execution_count": 7,
   "metadata": {},
   "outputs": [
    {
     "name": "stdout",
     "output_type": "stream",
     "text": [
      "{'DESCR': 'mldata.org dataset: mnist-original', 'COL_NAMES': ['label', 'data'], 'target': array([0., 0., 0., ..., 9., 9., 9.]), 'data': array([[0, 0, 0, ..., 0, 0, 0],\n",
      "       [0, 0, 0, ..., 0, 0, 0],\n",
      "       [0, 0, 0, ..., 0, 0, 0],\n",
      "       ...,\n",
      "       [0, 0, 0, ..., 0, 0, 0],\n",
      "       [0, 0, 0, ..., 0, 0, 0],\n",
      "       [0, 0, 0, ..., 0, 0, 0]], dtype=uint8)}\n"
     ]
    }
   ],
   "source": [
    "print(mnist)"
   ]
  },
  {
   "cell_type": "code",
   "execution_count": 8,
   "metadata": {},
   "outputs": [],
   "source": [
    "X, Y = mnist['data'], mnist['target'] "
   ]
  },
  {
   "cell_type": "code",
   "execution_count": 9,
   "metadata": {},
   "outputs": [
    {
     "data": {
      "text/plain": [
       "(70000, 784)"
      ]
     },
     "execution_count": 9,
     "metadata": {},
     "output_type": "execute_result"
    }
   ],
   "source": [
    "X.shape"
   ]
  },
  {
   "cell_type": "code",
   "execution_count": 127,
   "metadata": {},
   "outputs": [
    {
     "data": {
      "text/plain": [
       "(70000,)"
      ]
     },
     "execution_count": 127,
     "metadata": {},
     "output_type": "execute_result"
    }
   ],
   "source": [
    "Y.shape"
   ]
  },
  {
   "cell_type": "code",
   "execution_count": 10,
   "metadata": {},
   "outputs": [],
   "source": [
    "X_train, X_test, Y_train, Y_test = train_test_split(X, Y, random_state = 0)"
   ]
  },
  {
   "cell_type": "code",
   "execution_count": 11,
   "metadata": {},
   "outputs": [
    {
     "name": "stdout",
     "output_type": "stream",
     "text": [
      "(52500, 784)\n",
      "(17500, 784)\n",
      "(52500,)\n",
      "(17500,)\n"
     ]
    }
   ],
   "source": [
    "print(X_train.shape)\n",
    "print(X_test.shape)\n",
    "print(Y_train.shape)\n",
    "print(Y_test.shape)"
   ]
  },
  {
   "cell_type": "markdown",
   "metadata": {},
   "source": [
    "## 1. Decision Trees"
   ]
  },
  {
   "cell_type": "code",
   "execution_count": 129,
   "metadata": {},
   "outputs": [
    {
     "name": "stdout",
     "output_type": "stream",
     "text": [
      "DecisionTreeClassifier(class_weight=None, criterion='gini', max_depth=None,\n",
      "            max_features=None, max_leaf_nodes=None,\n",
      "            min_impurity_decrease=0.0, min_impurity_split=None,\n",
      "            min_samples_leaf=1, min_samples_split=2,\n",
      "            min_weight_fraction_leaf=0.0, presort=False, random_state=0,\n",
      "            splitter='best')\n",
      "[0. 1. 3. ... 7. 7. 8.]\n",
      "train data accuracy: 1.0\n",
      "test data accuracy: 0.8732\n"
     ]
    }
   ],
   "source": [
    "clf = DecisionTreeClassifier(criterion='gini', random_state= 0)\n",
    "clf.fit(X_train, Y_train)\n",
    "print(clf)\n",
    "predicted = clf.predict(X_train)\n",
    "print(predicted)\n",
    "print('train data accuracy:', clf.score(X_train, Y_train))\n",
    "print('test data accuracy:', clf.score(X_test, Y_test))"
   ]
  },
  {
   "cell_type": "code",
   "execution_count": 133,
   "metadata": {},
   "outputs": [
    {
     "name": "stdout",
     "output_type": "stream",
     "text": [
      "max_depth: 2\n",
      "train data accuracy: 0.33681904761904763\n",
      "test data accuracy: 0.33525714285714286\n",
      "max_depth: 3\n",
      "train data accuracy: 0.45643809523809525\n",
      "test data accuracy: 0.4566857142857143\n",
      "max_depth: 4\n",
      "train data accuracy: 0.6319428571428571\n",
      "test data accuracy: 0.6321714285714286\n",
      "max_depth: 5\n",
      "train data accuracy: 0.6822666666666667\n",
      "test data accuracy: 0.6793142857142858\n",
      "max_depth: 6\n",
      "train data accuracy: 0.7396571428571429\n",
      "test data accuracy: 0.7347428571428571\n",
      "max_depth: 7\n",
      "train data accuracy: 0.7934666666666667\n",
      "test data accuracy: 0.7818285714285714\n",
      "max_depth: 8\n",
      "train data accuracy: 0.8341904761904761\n",
      "test data accuracy: 0.8153142857142858\n",
      "max_depth: 9\n",
      "train data accuracy: 0.8687619047619047\n",
      "test data accuracy: 0.8390285714285715\n",
      "max_depth: 10\n",
      "train data accuracy: 0.8976952380952381\n",
      "test data accuracy: 0.8556\n",
      "max_depth: 11\n",
      "train data accuracy: 0.9243047619047619\n",
      "test data accuracy: 0.8654285714285714\n",
      "max_depth: 12\n",
      "train data accuracy: 0.9456952380952381\n",
      "test data accuracy: 0.8730285714285714\n",
      "max_depth: 13\n",
      "train data accuracy: 0.9620190476190477\n",
      "test data accuracy: 0.8743428571428571\n",
      "max_depth: 14\n",
      "train data accuracy: 0.9740380952380953\n",
      "test data accuracy: 0.8754285714285714\n",
      "max_depth: 15\n",
      "train data accuracy: 0.9817142857142858\n",
      "test data accuracy: 0.8771428571428571\n",
      "max_depth: 16\n",
      "train data accuracy: 0.9862095238095238\n",
      "test data accuracy: 0.8770285714285714\n",
      "max_depth: 17\n",
      "train data accuracy: 0.9890666666666666\n",
      "test data accuracy: 0.8772571428571428\n",
      "max_depth: 18\n",
      "train data accuracy: 0.9909333333333333\n",
      "test data accuracy: 0.8787428571428572\n",
      "max_depth: 19\n",
      "train data accuracy: 0.9923428571428572\n",
      "test data accuracy: 0.8773142857142857\n",
      "max_depth: 20\n",
      "train data accuracy: 0.9937333333333334\n",
      "test data accuracy: 0.8780571428571429\n",
      "max_depth: 21\n",
      "train data accuracy: 0.9948571428571429\n",
      "test data accuracy: 0.8745714285714286\n",
      "max_depth: 22\n",
      "train data accuracy: 0.9955047619047619\n",
      "test data accuracy: 0.8765714285714286\n",
      "max_depth: 23\n",
      "train data accuracy: 0.9959428571428571\n",
      "test data accuracy: 0.8746857142857143\n",
      "max_depth: 24\n",
      "train data accuracy: 0.9963619047619048\n",
      "test data accuracy: 0.8757714285714285\n",
      "max_depth: 25\n",
      "train data accuracy: 0.9967619047619047\n",
      "test data accuracy: 0.8766857142857143\n",
      "max_depth: 26\n",
      "train data accuracy: 0.9970666666666667\n",
      "test data accuracy: 0.8765714285714286\n",
      "max_depth: 27\n",
      "train data accuracy: 0.9972761904761904\n",
      "test data accuracy: 0.8746285714285714\n",
      "max_depth: 28\n",
      "train data accuracy: 0.9975428571428572\n",
      "test data accuracy: 0.8737714285714285\n",
      "max_depth: 29\n",
      "train data accuracy: 0.9977333333333334\n",
      "test data accuracy: 0.8752\n",
      "max_depth: 30\n",
      "train data accuracy: 0.9979619047619047\n",
      "test data accuracy: 0.8746857142857143\n",
      "max_depth: 31\n",
      "train data accuracy: 0.9982666666666666\n",
      "test data accuracy: 0.8743428571428571\n"
     ]
    }
   ],
   "source": [
    "for maxdepth in range(2,32):\n",
    "    clf = DecisionTreeClassifier(criterion='gini', max_depth = maxdepth, random_state= 0)\n",
    "    clf.fit(X_train, Y_train)\n",
    "    #print(clf)\n",
    "    predicted = clf.predict(X_train)\n",
    "    print('max_depth:', maxdepth)\n",
    "    print('train data accuracy:', clf.score(X_train, Y_train))\n",
    "    print('test data accuracy:', clf.score(X_test, Y_test))"
   ]
  },
  {
   "cell_type": "code",
   "execution_count": 191,
   "metadata": {},
   "outputs": [
    {
     "name": "stdout",
     "output_type": "stream",
     "text": [
      "# of training instance: 5250\n",
      "train data accuracy: 0.9992380952380953\n",
      "test data accuracy: 0.7825714285714286\n",
      "# of training instance: 10500\n",
      "train data accuracy: 0.9975238095238095\n",
      "test data accuracy: 0.8138857142857143\n",
      "# of training instance: 15750\n",
      "train data accuracy: 0.9969523809523809\n",
      "test data accuracy: 0.8349142857142857\n",
      "# of training instance: 21000\n",
      "train data accuracy: 0.9967619047619047\n",
      "test data accuracy: 0.8432\n",
      "# of training instance: 26250\n",
      "train data accuracy: 0.9956571428571429\n",
      "test data accuracy: 0.8585714285714285\n",
      "# of training instance: 31500\n",
      "train data accuracy: 0.9955555555555555\n",
      "test data accuracy: 0.8604\n",
      "# of training instance: 36750\n",
      "train data accuracy: 0.9943945578231292\n",
      "test data accuracy: 0.8610285714285715\n",
      "# of training instance: 42000\n",
      "train data accuracy: 0.991904761904762\n",
      "test data accuracy: 0.8670285714285715\n",
      "# of training instance: 47250\n",
      "train data accuracy: 0.9944338624338624\n",
      "test data accuracy: 0.8672\n",
      "# of training instance: 52500\n",
      "train data accuracy: 0.9909333333333333\n",
      "test data accuracy: 0.8787428571428572\n"
     ]
    },
    {
     "data": {
      "text/plain": [
       "<matplotlib.legend.Legend at 0x1f8856d1a20>"
      ]
     },
     "execution_count": 191,
     "metadata": {},
     "output_type": "execute_result"
    },
    {
     "data": {
      "image/png": "[encoded data removed]",
      "text/plain": [
       "<Figure size 432x288 with 1 Axes>"
      ]
     },
     "metadata": {
      "needs_background": "light"
     },
     "output_type": "display_data"
    }
   ],
   "source": [
    "num = len(X_train)\n",
    "data_num = []\n",
    "train_acc = []\n",
    "test_acc= []\n",
    "for i in range(10):\n",
    "    clf = DecisionTreeClassifier(max_depth = 18, random_state= 0)\n",
    "    data_num.append(int(num/10*(i+1)))\n",
    "    x_train = X_train[:int(num/10*(i+1))]\n",
    "    y_train = Y_train[:int(num/10*(i+1))]\n",
    "    clf.fit(x_train, y_train)\n",
    "    train_acc.append(clf.score(x_train, y_train))\n",
    "    test_acc.append(clf.score(X_test, Y_test))\n",
    "    print('# of training instance:', int(num/10*(i+1)))\n",
    "    print('train data accuracy:', clf.score(x_train, y_train))\n",
    "    print('test data accuracy:', clf.score(X_test, Y_test))\n",
    "    \n",
    "plt.plot(data_num,train_acc,color='red',label='train_acc')\n",
    "plt.plot(data_num,test_acc,color='blue',label='test_acc')\n",
    "\n",
    "plt.title(u'learning curve')\n",
    "plt.xlabel(u'size of training data')\n",
    "plt.ylabel(u'accuracy')\n",
    "\n",
    "plt.legend()"
   ]
  },
  {
   "cell_type": "code",
   "execution_count": 193,
   "metadata": {},
   "outputs": [
    {
     "name": "stdout",
     "output_type": "stream",
     "text": [
      "max_depth: 5\n",
      "train data accuracy: 0.6822666666666667\n",
      "test data accuracy: 0.6793142857142858\n",
      "max_depth: 6\n",
      "train data accuracy: 0.7396571428571429\n",
      "test data accuracy: 0.7347428571428571\n",
      "max_depth: 7\n",
      "train data accuracy: 0.7934666666666667\n",
      "test data accuracy: 0.7818285714285714\n",
      "max_depth: 8\n",
      "train data accuracy: 0.8341904761904761\n",
      "test data accuracy: 0.8153142857142858\n",
      "max_depth: 9\n",
      "train data accuracy: 0.8687619047619047\n",
      "test data accuracy: 0.8390285714285715\n",
      "max_depth: 10\n",
      "train data accuracy: 0.8976952380952381\n",
      "test data accuracy: 0.8556\n",
      "max_depth: 11\n",
      "train data accuracy: 0.9243047619047619\n",
      "test data accuracy: 0.8654285714285714\n",
      "max_depth: 12\n",
      "train data accuracy: 0.9456952380952381\n",
      "test data accuracy: 0.8730285714285714\n",
      "max_depth: 13\n",
      "train data accuracy: 0.9620190476190477\n",
      "test data accuracy: 0.8743428571428571\n",
      "max_depth: 14\n",
      "train data accuracy: 0.9740380952380953\n",
      "test data accuracy: 0.8754285714285714\n",
      "max_depth: 15\n",
      "train data accuracy: 0.9817142857142858\n",
      "test data accuracy: 0.8771428571428571\n",
      "max_depth: 16\n",
      "train data accuracy: 0.9862095238095238\n",
      "test data accuracy: 0.8770285714285714\n",
      "max_depth: 17\n",
      "train data accuracy: 0.9890666666666666\n",
      "test data accuracy: 0.8772571428571428\n",
      "max_depth: 18\n",
      "train data accuracy: 0.9909333333333333\n",
      "test data accuracy: 0.8787428571428572\n",
      "max_depth: 19\n",
      "train data accuracy: 0.9923428571428572\n",
      "test data accuracy: 0.8773142857142857\n",
      "max_depth: 20\n",
      "train data accuracy: 0.9937333333333334\n",
      "test data accuracy: 0.8780571428571429\n",
      "max_depth: 21\n",
      "train data accuracy: 0.9948571428571429\n",
      "test data accuracy: 0.8745714285714286\n",
      "max_depth: 22\n",
      "train data accuracy: 0.9955047619047619\n",
      "test data accuracy: 0.8765714285714286\n",
      "max_depth: 23\n",
      "train data accuracy: 0.9959428571428571\n",
      "test data accuracy: 0.8746857142857143\n",
      "max_depth: 24\n",
      "train data accuracy: 0.9963619047619048\n",
      "test data accuracy: 0.8757714285714285\n",
      "max_depth: 25\n",
      "train data accuracy: 0.9967619047619047\n",
      "test data accuracy: 0.8766857142857143\n",
      "max_depth: 26\n",
      "train data accuracy: 0.9970666666666667\n",
      "test data accuracy: 0.8765714285714286\n",
      "max_depth: 27\n",
      "train data accuracy: 0.9972761904761904\n",
      "test data accuracy: 0.8746285714285714\n",
      "max_depth: 28\n",
      "train data accuracy: 0.9975428571428572\n",
      "test data accuracy: 0.8737714285714285\n",
      "max_depth: 29\n",
      "train data accuracy: 0.9977333333333334\n",
      "test data accuracy: 0.8752\n",
      "max_depth: 30\n",
      "train data accuracy: 0.9979619047619047\n",
      "test data accuracy: 0.8746857142857143\n"
     ]
    },
    {
     "data": {
      "text/plain": [
       "<matplotlib.legend.Legend at 0x1f88753ce48>"
      ]
     },
     "execution_count": 193,
     "metadata": {},
     "output_type": "execute_result"
    },
    {
     "data": {
      "image/png": "[encoded data removed]",
      "text/plain": [
       "<Figure size 432x288 with 1 Axes>"
      ]
     },
     "metadata": {
      "needs_background": "light"
     },
     "output_type": "display_data"
    }
   ],
   "source": [
    "num = len(X_train)\n",
    "max_depth = []\n",
    "train_acc = []\n",
    "test_acc= []\n",
    "for i in range(4,30):\n",
    "    clf = DecisionTreeClassifier(max_depth = i+1, random_state= 0)\n",
    "    max_depth.append(i+1)\n",
    "    x_train = X_train\n",
    "    y_train = Y_train\n",
    "    clf.fit(x_train, y_train)\n",
    "    train_acc.append(clf.score(x_train, y_train))\n",
    "    test_acc.append(clf.score(X_test, Y_test))\n",
    "    print('max_depth:', i+1)\n",
    "    print('train data accuracy:', clf.score(X_train, Y_train))\n",
    "    print('test data accuracy:', clf.score(X_test, Y_test))\n",
    "    \n",
    "plt.plot(max_depth,train_acc,color='red',label='train_acc')\n",
    "plt.plot(max_depth,test_acc,color='blue',label='test_acc')\n",
    "\n",
    "plt.title(u'max_depth VS accuracy')\n",
    "plt.xlabel(u'max_depth')\n",
    "plt.ylabel(u'accuracy')\n",
    "\n",
    "plt.legend()"
   ]
  },
  {
   "cell_type": "markdown",
   "metadata": {},
   "source": [
    "## 2. Neural Network"
   ]
  },
  {
   "cell_type": "code",
   "execution_count": 231,
   "metadata": {},
   "outputs": [],
   "source": [
    "NN_model = MLPClassifier(hidden_layer_sizes = (10,), random_state = 0, max_iter = 100000).fit(X_train, Y_train)"
   ]
  },
  {
   "cell_type": "code",
   "execution_count": 232,
   "metadata": {},
   "outputs": [
    {
     "name": "stdout",
     "output_type": "stream",
     "text": [
      "train data accuracy: 0.680495238095238\n",
      "test data accuracy: 0.6777714285714286\n"
     ]
    }
   ],
   "source": [
    "print('train data accuracy:', NN_model.score(X_train, Y_train))\n",
    "print('test data accuracy:', NN_model.score(X_test, Y_test))"
   ]
  },
  {
   "cell_type": "code",
   "execution_count": 139,
   "metadata": {},
   "outputs": [],
   "source": [
    "NN_model = MLPClassifier(hidden_layer_sizes = (3,3), random_state = 0, max_iter = 100000).fit(X_train, Y_train)"
   ]
  },
  {
   "cell_type": "code",
   "execution_count": 140,
   "metadata": {},
   "outputs": [
    {
     "name": "stdout",
     "output_type": "stream",
     "text": [
      "train data accuracy: 0.1112952380952381\n",
      "test data accuracy: 0.11611428571428571\n"
     ]
    }
   ],
   "source": [
    "print('train data accuracy:', NN_model.score(X_train, Y_train))\n",
    "print('test data accuracy:', NN_model.score(X_test, Y_test))"
   ]
  },
  {
   "cell_type": "code",
   "execution_count": 141,
   "metadata": {},
   "outputs": [],
   "source": [
    "NN_model = MLPClassifier(hidden_layer_sizes = (5,5,5), random_state = 0, max_iter = 100000).fit(X_train, Y_train)"
   ]
  },
  {
   "cell_type": "code",
   "execution_count": 142,
   "metadata": {},
   "outputs": [
    {
     "name": "stdout",
     "output_type": "stream",
     "text": [
      "train data accuracy: 0.8248571428571428\n",
      "test data accuracy: 0.8036\n"
     ]
    }
   ],
   "source": [
    "print('train data accuracy:', NN_model.score(X_train, Y_train))\n",
    "print('test data accuracy:', NN_model.score(X_test, Y_test))"
   ]
  },
  {
   "cell_type": "code",
   "execution_count": 236,
   "metadata": {},
   "outputs": [],
   "source": [
    "NN_model = MLPClassifier(hidden_layer_sizes = (10), random_state = 0, max_iter = 100000).fit(X_train, Y_train)"
   ]
  },
  {
   "cell_type": "code",
   "execution_count": 237,
   "metadata": {},
   "outputs": [
    {
     "name": "stdout",
     "output_type": "stream",
     "text": [
      "train data accuracy: 0.680495238095238\n",
      "test data accuracy: 0.6777714285714286\n"
     ]
    }
   ],
   "source": [
    "print('train data accuracy:', NN_model.score(X_train, Y_train))\n",
    "print('test data accuracy:', NN_model.score(X_test, Y_test))"
   ]
  },
  {
   "cell_type": "code",
   "execution_count": 233,
   "metadata": {},
   "outputs": [],
   "source": [
    "NN_model = MLPClassifier(hidden_layer_sizes = (100), random_state = 0, max_iter = 100000).fit(X_train, Y_train)"
   ]
  },
  {
   "cell_type": "code",
   "execution_count": 234,
   "metadata": {},
   "outputs": [
    {
     "name": "stdout",
     "output_type": "stream",
     "text": [
      "train data accuracy: 0.9950476190476191\n",
      "test data accuracy: 0.9620571428571428\n"
     ]
    }
   ],
   "source": [
    "print('train data accuracy:', NN_model.score(X_train, Y_train))\n",
    "print('test data accuracy:', NN_model.score(X_test, Y_test))"
   ]
  },
  {
   "cell_type": "code",
   "execution_count": 143,
   "metadata": {},
   "outputs": [],
   "source": [
    "NN_model = MLPClassifier(hidden_layer_sizes = (100,100), random_state = 0, max_iter = 100000).fit(X_train, Y_train)"
   ]
  },
  {
   "cell_type": "code",
   "execution_count": 144,
   "metadata": {},
   "outputs": [
    {
     "name": "stdout",
     "output_type": "stream",
     "text": [
      "train data accuracy: 0.9956\n",
      "test data accuracy: 0.9705714285714285\n"
     ]
    }
   ],
   "source": [
    "print('train data accuracy:', NN_model.score(X_train, Y_train))\n",
    "print('test data accuracy:', NN_model.score(X_test, Y_test))"
   ]
  },
  {
   "cell_type": "code",
   "execution_count": 145,
   "metadata": {},
   "outputs": [],
   "source": [
    "NN_model = MLPClassifier(hidden_layer_sizes = (5,5,5,5), random_state = 0, max_iter = 100000).fit(X_train, Y_train)"
   ]
  },
  {
   "cell_type": "code",
   "execution_count": 146,
   "metadata": {},
   "outputs": [
    {
     "name": "stdout",
     "output_type": "stream",
     "text": [
      "train data accuracy: 0.8425714285714285\n",
      "test data accuracy: 0.8282285714285714\n"
     ]
    }
   ],
   "source": [
    "print('train data accuracy:', NN_model.score(X_train, Y_train))\n",
    "print('test data accuracy:', NN_model.score(X_test, Y_test))"
   ]
  },
  {
   "cell_type": "code",
   "execution_count": 147,
   "metadata": {},
   "outputs": [],
   "source": [
    "NN_model = MLPClassifier(hidden_layer_sizes = (100,100,100), random_state = 0, max_iter = 100000).fit(X_train, Y_train)"
   ]
  },
  {
   "cell_type": "code",
   "execution_count": 148,
   "metadata": {},
   "outputs": [
    {
     "name": "stdout",
     "output_type": "stream",
     "text": [
      "train data accuracy: 0.9973714285714286\n",
      "test data accuracy: 0.9716571428571429\n"
     ]
    }
   ],
   "source": [
    "print('train data accuracy:', NN_model.score(X_train, Y_train))\n",
    "print('test data accuracy:', NN_model.score(X_test, Y_test))"
   ]
  },
  {
   "cell_type": "code",
   "execution_count": 149,
   "metadata": {},
   "outputs": [],
   "source": [
    "NN_model = MLPClassifier(hidden_layer_sizes = (100,100), alpha = 0.001, random_state = 0, max_iter = 100000).fit(X_train, Y_train)"
   ]
  },
  {
   "cell_type": "code",
   "execution_count": 150,
   "metadata": {},
   "outputs": [
    {
     "name": "stdout",
     "output_type": "stream",
     "text": [
      "train data accuracy: 0.9928\n",
      "test data accuracy: 0.9668\n"
     ]
    }
   ],
   "source": [
    "print('train data accuracy:', NN_model.score(X_train, Y_train))\n",
    "print('test data accuracy:', NN_model.score(X_test, Y_test))"
   ]
  },
  {
   "cell_type": "code",
   "execution_count": 151,
   "metadata": {},
   "outputs": [],
   "source": [
    "NN_model = MLPClassifier(hidden_layer_sizes = (100,100), alpha = 0.01, random_state = 0, max_iter = 100000).fit(X_train, Y_train)"
   ]
  },
  {
   "cell_type": "code",
   "execution_count": 152,
   "metadata": {},
   "outputs": [
    {
     "name": "stdout",
     "output_type": "stream",
     "text": [
      "train data accuracy: 0.9929523809523809\n",
      "test data accuracy: 0.9670285714285715\n"
     ]
    }
   ],
   "source": [
    "print('train data accuracy:', NN_model.score(X_train, Y_train))\n",
    "print('test data accuracy:', NN_model.score(X_test, Y_test))"
   ]
  },
  {
   "cell_type": "code",
   "execution_count": 243,
   "metadata": {},
   "outputs": [
    {
     "name": "stdout",
     "output_type": "stream",
     "text": [
      "# of iter: 100\n",
      "train data accuracy: 0.9950476190476191\n",
      "test data accuracy: 0.9620571428571428\n",
      "# of iter: 200\n",
      "train data accuracy: 0.9950476190476191\n",
      "test data accuracy: 0.9620571428571428\n",
      "# of iter: 300\n",
      "train data accuracy: 0.9950476190476191\n",
      "test data accuracy: 0.9620571428571428\n",
      "# of iter: 400\n",
      "train data accuracy: 0.9950476190476191\n",
      "test data accuracy: 0.9620571428571428\n",
      "# of iter: 500\n",
      "train data accuracy: 0.9950476190476191\n",
      "test data accuracy: 0.9620571428571428\n",
      "# of iter: 600\n",
      "train data accuracy: 0.9950476190476191\n",
      "test data accuracy: 0.9620571428571428\n",
      "# of iter: 700\n",
      "train data accuracy: 0.9950476190476191\n",
      "test data accuracy: 0.9620571428571428\n",
      "# of iter: 800\n",
      "train data accuracy: 0.9950476190476191\n",
      "test data accuracy: 0.9620571428571428\n",
      "# of iter: 900\n",
      "train data accuracy: 0.9950476190476191\n",
      "test data accuracy: 0.9620571428571428\n",
      "# of iter: 1000\n",
      "train data accuracy: 0.9950476190476191\n",
      "test data accuracy: 0.9620571428571428\n"
     ]
    },
    {
     "data": {
      "text/plain": [
       "<matplotlib.legend.Legend at 0x1f886ed2390>"
      ]
     },
     "execution_count": 243,
     "metadata": {},
     "output_type": "execute_result"
    },
    {
     "data": {
      "image/png": "[encoded data removed]",
      "text/plain": [
       "<Figure size 432x288 with 1 Axes>"
      ]
     },
     "metadata": {
      "needs_background": "light"
     },
     "output_type": "display_data"
    }
   ],
   "source": [
    "num = len(X_train)\n",
    "iter_num = []\n",
    "train_acc = []\n",
    "test_acc= []\n",
    "for i in range(10):\n",
    "    NN_model = MLPClassifier(hidden_layer_sizes = (100), random_state = 0, max_iter = 100*(i+1))\n",
    "    iter_num.append(100*(i+1))\n",
    "    x_train = X_train\n",
    "    y_train = Y_train\n",
    "    NN_model.fit(x_train, y_train)\n",
    "    train_acc.append(NN_model.score(x_train, y_train))\n",
    "    test_acc.append(NN_model.score(X_test, Y_test))\n",
    "    print('# of iter:',  100*(i+1))\n",
    "    print('train data accuracy:', NN_model.score(x_train, y_train))\n",
    "    print('test data accuracy:', NN_model.score(X_test, Y_test))\n",
    "    \n",
    "plt.plot(data_num,train_acc,color='red',label='train_acc')\n",
    "plt.plot(data_num,test_acc,color='blue',label='test_acc')\n",
    "\n",
    "plt.title(u'learning curve')\n",
    "plt.xlabel(u'# of iter')\n",
    "plt.ylabel(u'accuracy')\n",
    "\n",
    "plt.legend()"
   ]
  },
  {
   "cell_type": "code",
   "execution_count": 242,
   "metadata": {
    "scrolled": true
   },
   "outputs": [
    {
     "name": "stdout",
     "output_type": "stream",
     "text": [
      "size of training data: 5250\n",
      "train data accuracy: 1.0\n",
      "test data accuracy: 0.8812\n",
      "size of training data: 10500\n",
      "train data accuracy: 0.9952380952380953\n",
      "test data accuracy: 0.9226857142857143\n",
      "size of training data: 15750\n",
      "train data accuracy: 0.9910476190476191\n",
      "test data accuracy: 0.9302285714285714\n",
      "size of training data: 21000\n",
      "train data accuracy: 0.9914285714285714\n",
      "test data accuracy: 0.9470857142857143\n",
      "size of training data: 26250\n",
      "train data accuracy: 0.992152380952381\n",
      "test data accuracy: 0.9545714285714286\n",
      "size of training data: 31500\n",
      "train data accuracy: 0.992\n",
      "test data accuracy: 0.9550285714285714\n",
      "size of training data: 36750\n",
      "train data accuracy: 0.9915374149659864\n",
      "test data accuracy: 0.9570285714285715\n",
      "size of training data: 42000\n",
      "train data accuracy: 0.9940714285714286\n",
      "test data accuracy: 0.9620571428571428\n",
      "size of training data: 47250\n",
      "train data accuracy: 0.9928677248677249\n",
      "test data accuracy: 0.9624\n",
      "size of training data: 52500\n",
      "train data accuracy: 0.9950476190476191\n",
      "test data accuracy: 0.9620571428571428\n"
     ]
    },
    {
     "data": {
      "text/plain": [
       "<matplotlib.legend.Legend at 0x1f886e6c1d0>"
      ]
     },
     "execution_count": 242,
     "metadata": {},
     "output_type": "execute_result"
    },
    {
     "data": {
      "image/png": "[encoded data removed]",
      "text/plain": [
       "<Figure size 432x288 with 1 Axes>"
      ]
     },
     "metadata": {
      "needs_background": "light"
     },
     "output_type": "display_data"
    }
   ],
   "source": [
    "num = len(X_train)\n",
    "data_num = []\n",
    "train_acc = []\n",
    "test_acc= []\n",
    "for i in range(10):\n",
    "    NN_model = MLPClassifier(hidden_layer_sizes = (100), random_state = 0, max_iter = 1000)\n",
    "    data_num.append(int(num/10*(i+1)))\n",
    "    x_train = X_train[0:int(num/10*(i+1))]\n",
    "    y_train = Y_train[0:int(num/10*(i+1))]\n",
    "    NN_model.fit(x_train, y_train)\n",
    "    train_acc.append(NN_model.score(x_train, y_train))\n",
    "    test_acc.append(NN_model.score(X_test, Y_test))\n",
    "    print('size of training data:', int(num/10*(i+1)))\n",
    "    print('train data accuracy:', NN_model.score(x_train, y_train))\n",
    "    print('test data accuracy:', NN_model.score(X_test, Y_test))\n",
    "    \n",
    "plt.plot(data_num,train_acc,color='red',label='train_acc')\n",
    "plt.plot(data_num,test_acc,color='blue',label='test_acc')\n",
    "\n",
    "plt.title(u'learning curve')\n",
    "plt.xlabel(u'# of training data')\n",
    "plt.ylabel(u'accuracy')\n",
    "\n",
    "plt.legend()"
   ]
  },
  {
   "cell_type": "code",
   "execution_count": 241,
   "metadata": {},
   "outputs": [
    {
     "name": "stdout",
     "output_type": "stream",
     "text": [
      "size of NN: 10\n",
      "train data accuracy: 0.680495238095238\n",
      "test data accuracy: 0.6777714285714286\n",
      "size of NN: 100\n",
      "train data accuracy: 0.9950476190476191\n",
      "test data accuracy: 0.9620571428571428\n",
      "size of NN: (10, 10)\n",
      "train data accuracy: 0.907847619047619\n",
      "test data accuracy: 0.8876571428571428\n",
      "size of NN: (100, 100)\n",
      "train data accuracy: 0.9956\n",
      "test data accuracy: 0.9705714285714285\n"
     ]
    }
   ],
   "source": [
    "num = len(X_train)\n",
    "#iter_num = []\n",
    "train_acc = []\n",
    "test_acc= []\n",
    "for i in [(10),(100),(10,10),(100,100)]:\n",
    "    NN_model = MLPClassifier(hidden_layer_sizes = i, random_state = 0, max_iter = 1000)\n",
    "    #iter_num.append(100*(i+1))\n",
    "    x_train = X_train\n",
    "    y_train = Y_train\n",
    "    NN_model.fit(x_train, y_train)\n",
    "    train_acc.append(NN_model.score(x_train, y_train))\n",
    "    test_acc.append(NN_model.score(X_test, Y_test))\n",
    "    print('size of NN:', i)\n",
    "    print('train data accuracy:', NN_model.score(x_train, y_train))\n",
    "    print('test data accuracy:', NN_model.score(X_test, Y_test))\n",
    "    \n",
    "# plt.plot(iter_num,train_acc,color='red',label='train_acc')\n",
    "# plt.plot(iter_num,test_acc,color='blue',label='test_acc')\n",
    "\n",
    "# plt.title(u'learning curve')\n",
    "# plt.xlabel(u'# of iterations')\n",
    "# plt.ylabel(u'accuracy')\n",
    "\n",
    "# plt.legend()"
   ]
  },
  {
   "cell_type": "markdown",
   "metadata": {},
   "source": [
    "## 3. AdaBoost Tree"
   ]
  },
  {
   "cell_type": "code",
   "execution_count": 253,
   "metadata": {},
   "outputs": [
    {
     "name": "stdout",
     "output_type": "stream",
     "text": [
      "# of training instance: 5250\n",
      "train data accuracy: 1.0\n",
      "test data accuracy: 0.9333142857142858\n",
      "# of training instance: 10500\n",
      "train data accuracy: 1.0\n",
      "test data accuracy: 0.9424\n",
      "# of training instance: 15750\n",
      "train data accuracy: 1.0\n",
      "test data accuracy: 0.9480571428571428\n",
      "# of training instance: 21000\n",
      "train data accuracy: 1.0\n",
      "test data accuracy: 0.9525142857142858\n",
      "# of training instance: 26250\n",
      "train data accuracy: 1.0\n",
      "test data accuracy: 0.9556\n",
      "# of training instance: 31500\n",
      "train data accuracy: 1.0\n",
      "test data accuracy: 0.9581714285714286\n",
      "# of training instance: 36750\n",
      "train data accuracy: 1.0\n",
      "test data accuracy: 0.958\n",
      "# of training instance: 42000\n",
      "train data accuracy: 1.0\n",
      "test data accuracy: 0.9599428571428571\n",
      "# of training instance: 47250\n",
      "train data accuracy: 1.0\n",
      "test data accuracy: 0.9611428571428572\n",
      "# of training instance: 52500\n",
      "train data accuracy: 1.0\n",
      "test data accuracy: 0.9626857142857143\n"
     ]
    },
    {
     "data": {
      "text/plain": [
       "<matplotlib.legend.Legend at 0x1f886b42080>"
      ]
     },
     "execution_count": 253,
     "metadata": {},
     "output_type": "execute_result"
    },
    {
     "data": {
      "image/png": "[encoded data removed]",
      "text/plain": [
       "<Figure size 432x288 with 1 Axes>"
      ]
     },
     "metadata": {
      "needs_background": "light"
     },
     "output_type": "display_data"
    }
   ],
   "source": [
    "num = len(X_train)\n",
    "data_num = []\n",
    "train_acc = []\n",
    "test_acc= []\n",
    "for i in range(10):\n",
    "    adbot = AdaBoostClassifier(DecisionTreeClassifier(criterion='gini',max_depth = 18, random_state= 0), random_state = 0)  \n",
    "    data_num.append(int(num/10*(i+1)))\n",
    "    x_train = X_train[:int(num/10*(i+1))]\n",
    "    y_train = Y_train[:int(num/10*(i+1))]\n",
    "    adbot.fit(x_train, y_train)\n",
    "    train_acc.append(adbot.score(x_train, y_train))\n",
    "    test_acc.append(adbot.score(X_test, Y_test))\n",
    "    print('# of training instance:', int(num/10*(i+1)))\n",
    "    print('train data accuracy:', adbot.score(x_train, y_train))\n",
    "    print('test data accuracy:', adbot.score(X_test, Y_test))\n",
    "    \n",
    "plt.plot(data_num,train_acc,color='red',label='train_acc')\n",
    "plt.plot(data_num,test_acc,color='blue',label='test_acc')\n",
    "\n",
    "plt.title(u'learning curve')\n",
    "plt.xlabel(u'size of training data')\n",
    "plt.ylabel(u'accuracy')\n",
    "\n",
    "plt.legend()"
   ]
  },
  {
   "cell_type": "code",
   "execution_count": 255,
   "metadata": {},
   "outputs": [
    {
     "data": {
      "text/plain": [
       "<matplotlib.legend.Legend at 0x1f886d5d828>"
      ]
     },
     "execution_count": 255,
     "metadata": {},
     "output_type": "execute_result"
    },
    {
     "data": {
      "image/png": "[encoded data removed]",
      "text/plain": [
       "<Figure size 432x288 with 1 Axes>"
      ]
     },
     "metadata": {
      "needs_background": "light"
     },
     "output_type": "display_data"
    }
   ],
   "source": [
    "num = len(X_train)\n",
    "n_estimators = []\n",
    "train_acc = []\n",
    "test_acc= []\n",
    "for i in [10,20,30,40,50]:\n",
    "    adbot = AdaBoostClassifier(DecisionTreeClassifier(criterion='gini',max_depth = 18, random_state= 0), n_estimators = i, random_state = 0)  \n",
    "    n_estimators.append(i)\n",
    "    x_train = X_train\n",
    "    y_train = Y_train\n",
    "    adbot.fit(x_train, y_train)\n",
    "    train_acc.append(adbot.score(x_train, y_train))\n",
    "    test_acc.append(adbot.score(X_test, Y_test))\n",
    "    print('n_estimators:', i)\n",
    "    print('train data accuracy:', adbot.score(x_train, y_train))\n",
    "    print('test data accuracy:', adbot.score(X_test, Y_test))\n",
    "    \n",
    "plt.plot(n_estimators,train_acc,color='red',label='train_acc')\n",
    "plt.plot(n_estimators,test_acc,color='blue',label='test_acc')\n",
    "\n",
    "plt.title(u'n_estimators VS accuracy')\n",
    "plt.xlabel(u'n_estimators')\n",
    "plt.ylabel(u'accuracy')\n",
    "\n",
    "plt.legend()"
   ]
  },
  {
   "cell_type": "markdown",
   "metadata": {},
   "source": [
    "## 4. SVM"
   ]
  },
  {
   "cell_type": "code",
   "execution_count": 20,
   "metadata": {},
   "outputs": [
    {
     "name": "stdout",
     "output_type": "stream",
     "text": [
      "train data accuracy: 0.9731619047619048\n",
      "test data accuracy: 0.9329714285714286\n"
     ]
    }
   ],
   "source": [
    "svm_model = svm.SVC(kernel = 'linear', random_state = 0)\n",
    "svm_model.fit(X_train/255, Y_train)\n",
    "print('train data accuracy:', svm_model.score(X_train/255, Y_train))\n",
    "print('test data accuracy:', svm_model.score(X_test/255, Y_test))"
   ]
  },
  {
   "cell_type": "code",
   "execution_count": 21,
   "metadata": {},
   "outputs": [
    {
     "name": "stderr",
     "output_type": "stream",
     "text": [
      "C:\\ProgramData\\Anaconda3\\lib\\site-packages\\sklearn\\svm\\base.py:196: FutureWarning: The default value of gamma will change from 'auto' to 'scale' in version 0.22 to account better for unscaled features. Set gamma explicitly to 'auto' or 'scale' to avoid this warning.\n",
      "  \"avoid this warning.\", FutureWarning)\n"
     ]
    },
    {
     "name": "stdout",
     "output_type": "stream",
     "text": [
      "train data accuracy: 0.942152380952381\n",
      "test data accuracy: 0.9402857142857143\n"
     ]
    }
   ],
   "source": [
    "svm_model = svm.SVC(kernel = 'rbf', random_state = 0)\n",
    "svm_model.fit(X_train/255, Y_train)\n",
    "print('train data accuracy:', svm_model.score(X_train/255, Y_train))\n",
    "print('test data accuracy:', svm_model.score(X_test/255, Y_test))"
   ]
  },
  {
   "cell_type": "markdown",
   "metadata": {},
   "source": [
    "## KNN"
   ]
  },
  {
   "cell_type": "code",
   "execution_count": null,
   "metadata": {},
   "outputs": [],
   "source": [
    "num = len(X_train)\n",
    "neigbor = []\n",
    "train_acc = []\n",
    "test_acc= []\n",
    "for i in range(5):\n",
    "    knn_model = KNeighborsClassifier(i+1)\n",
    "    neigbor.append(i)\n",
    "    x_train = X_train\n",
    "    y_train = Y_train\n",
    "    knn_model.fit(x_train, y_train)\n",
    "    train_acc.append(knn_model.score(x_train, y_train))\n",
    "    test_acc.append(knn_model.score(X_test, Y_test))\n",
    "    print('nrigbor:', i)\n",
    "    print('train data accuracy:', knn_model.score(x_train, y_train))\n",
    "    print('test data accuracy:', knn_model.score(X_test, Y_test))\n",
    "    \n",
    "plt.plot(neigbor,train_acc,color='red',label='train_acc')\n",
    "plt.plot(neigbor,test_acc,color='blue',label='test_acc')\n",
    "\n",
    "plt.title(u'# of neigbors VS accuracy')\n",
    "plt.xlabel(u'# of neigbors')\n",
    "plt.ylabel(u'accuracy')\n",
    "\n",
    "plt.legend()"
   ]
  }
 ],
 "metadata": {
  "kernelspec": {
   "display_name": "Python 3",
   "language": "python",
   "name": "python3"
  },
  "language_info": {
   "codemirror_mode": {
    "name": "ipython",
    "version": 3
   },
   "file_extension": ".py",
   "mimetype": "text/x-python",
   "name": "python",
   "nbconvert_exporter": "python",
   "pygments_lexer": "ipython3",
   "version": "3.6.8"
  }
 },
 "nbformat": 4,
 "nbformat_minor": 2
}
